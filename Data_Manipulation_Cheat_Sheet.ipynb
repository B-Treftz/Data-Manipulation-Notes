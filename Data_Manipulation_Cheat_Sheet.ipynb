{
 "cells": [
  {
   "cell_type": "code",
   "execution_count": 3,
   "metadata": {},
   "outputs": [],
   "source": [
    "# Import Libraries\n",
    "import pandas as pd\n",
    "import numpy as np\n",
    "import seaborn as sns\n",
    "import matplotlib as mpl\n",
    "import matplotlib.pyplot as plt"
   ]
  },
  {
   "cell_type": "code",
   "execution_count": 4,
   "metadata": {},
   "outputs": [],
   "source": [
    "# set display columns to max so that we can view all columns\n",
    "pd.set_option('display.max_columns', None)"
   ]
  },
  {
   "cell_type": "code",
   "execution_count": 9,
   "metadata": {},
   "outputs": [],
   "source": [
    "# Import Datasets\n",
    "\n",
    "dfc = pd.read_csv('Module 1/Cereal_Module_Files/cereal.csv')\n",
    "dfv = pd.read_csv('Module 2/Data_Cleaning_Preparation_Airbnb_Module_Files/listings_vienna.csv')"
   ]
  },
  {
   "cell_type": "markdown",
   "metadata": {},
   "source": [
    "### Number of Observations in a Dataframe\n",
    "\n",
    "#### **len(dataframe)**"
   ]
  },
  {
   "cell_type": "code",
   "execution_count": 37,
   "metadata": {},
   "outputs": [
    {
     "data": {
      "text/plain": [
       "77"
      ]
     },
     "execution_count": 37,
     "metadata": {},
     "output_type": "execute_result"
    }
   ],
   "source": [
    "len(dfc)"
   ]
  },
  {
   "cell_type": "markdown",
   "metadata": {},
   "source": [
    "### Descriptive Stats for a Column  \n",
    "\n",
    "#### **df.col_name.describe()**"
   ]
  },
  {
   "cell_type": "code",
   "execution_count": 36,
   "metadata": {},
   "outputs": [
    {
     "name": "stdout",
     "output_type": "stream",
     "text": [
      "The Following is a description of CATEGORICAL Data: \n",
      "\n",
      "count     77\n",
      "unique     7\n",
      "top        K\n",
      "freq      23\n",
      "Name: mfr, dtype: object \n",
      "\n",
      "The Following is a description of NUMERICAL Data: \n",
      "\n",
      "count     77.000000\n",
      "mean     106.883117\n",
      "std       19.484119\n",
      "min       50.000000\n",
      "25%      100.000000\n",
      "50%      110.000000\n",
      "75%      110.000000\n",
      "max      160.000000\n",
      "Name: calories, dtype: float64\n",
      "The Following is a description of MULTIPLE COLUMNS: \n",
      "\n",
      "        mfr    calories        fat    protein\n",
      "count    77   77.000000  77.000000  77.000000\n",
      "unique    7         NaN        NaN        NaN\n",
      "top       K         NaN        NaN        NaN\n",
      "freq     23         NaN        NaN        NaN\n",
      "mean    NaN  106.883117   1.012987   2.545455\n",
      "std     NaN   19.484119   1.006473   1.094790\n",
      "min     NaN   50.000000   0.000000   1.000000\n",
      "25%     NaN  100.000000   0.000000   2.000000\n",
      "50%     NaN  110.000000   1.000000   3.000000\n",
      "75%     NaN  110.000000   2.000000   3.000000\n",
      "max     NaN  160.000000   5.000000   6.000000\n"
     ]
    }
   ],
   "source": [
    "# Describing Categorical Data\n",
    "cat_desc = dfc.mfr.describe()\n",
    "print('The Following is a description of CATEGORICAL Data: \\n')\n",
    "print(cat_desc,'\\n')\n",
    "\n",
    "# Describing Categorical Data\n",
    "num_desc = dfc.calories.describe()\n",
    "print('The Following is a description of NUMERICAL Data: \\n')\n",
    "print(num_desc)\n",
    "\n",
    "# Describing more than one column\n",
    "desc = dfc[['mfr','calories','fat','protein']].describe(include='all') \n",
    "# \"(include='all')\" displays both categorical and numerical columns if they are both specified\n",
    "print('The Following is a description of MULTIPLE COLUMNS: \\n')\n",
    "print(desc)"
   ]
  },
  {
   "cell_type": "markdown",
   "metadata": {},
   "source": [
    "### **Array** listing Unique Values in a Column \n",
    "#### df.col_name.unique()  \n",
    "\n",
    "### **Number** of Unique Values in a Column\n",
    "#### #df.col_name.nunique()"
   ]
  },
  {
   "cell_type": "code",
   "execution_count": 18,
   "metadata": {},
   "outputs": [
    {
     "name": "stdout",
     "output_type": "stream",
     "text": [
      "This is the ARRAY of Unique Values: \n",
      " ['N' 'Q' 'K' 'R' 'G' 'P' 'A']\n",
      "This is the NUMBER of Unique Values: \n",
      " 7\n"
     ]
    }
   ],
   "source": [
    "#df.col_name.unique()\n",
    "arr_unique_values = dfc.mfr.unique()\n",
    "print('This is the ARRAY of Unique Values: \\n',arr_unique_values)\n",
    "\n",
    "#df.col_name.nunique()\n",
    "num_unique_values = dfc.mfr.nunique()\n",
    "print('This is the NUMBER of Unique Values: \\n', num_unique_values)"
   ]
  },
  {
   "cell_type": "markdown",
   "metadata": {},
   "source": [
    "### Selecting Columns into New Dataframe\n",
    "\n",
    "#### **df2 = df1[['col1','col2',...,'col_n']].copy()**"
   ]
  },
  {
   "cell_type": "code",
   "execution_count": 38,
   "metadata": {},
   "outputs": [
    {
     "data": {
      "text/html": [
       "<div>\n",
       "<style scoped>\n",
       "    .dataframe tbody tr th:only-of-type {\n",
       "        vertical-align: middle;\n",
       "    }\n",
       "\n",
       "    .dataframe tbody tr th {\n",
       "        vertical-align: top;\n",
       "    }\n",
       "\n",
       "    .dataframe thead th {\n",
       "        text-align: right;\n",
       "    }\n",
       "</style>\n",
       "<table border=\"1\" class=\"dataframe\">\n",
       "  <thead>\n",
       "    <tr style=\"text-align: right;\">\n",
       "      <th></th>\n",
       "      <th>mfr</th>\n",
       "      <th>protein</th>\n",
       "      <th>fat</th>\n",
       "    </tr>\n",
       "  </thead>\n",
       "  <tbody>\n",
       "    <tr>\n",
       "      <th>0</th>\n",
       "      <td>N</td>\n",
       "      <td>4</td>\n",
       "      <td>1</td>\n",
       "    </tr>\n",
       "    <tr>\n",
       "      <th>1</th>\n",
       "      <td>Q</td>\n",
       "      <td>3</td>\n",
       "      <td>5</td>\n",
       "    </tr>\n",
       "    <tr>\n",
       "      <th>2</th>\n",
       "      <td>K</td>\n",
       "      <td>4</td>\n",
       "      <td>1</td>\n",
       "    </tr>\n",
       "    <tr>\n",
       "      <th>3</th>\n",
       "      <td>K</td>\n",
       "      <td>4</td>\n",
       "      <td>0</td>\n",
       "    </tr>\n",
       "    <tr>\n",
       "      <th>4</th>\n",
       "      <td>R</td>\n",
       "      <td>2</td>\n",
       "      <td>2</td>\n",
       "    </tr>\n",
       "    <tr>\n",
       "      <th>...</th>\n",
       "      <td>...</td>\n",
       "      <td>...</td>\n",
       "      <td>...</td>\n",
       "    </tr>\n",
       "    <tr>\n",
       "      <th>72</th>\n",
       "      <td>G</td>\n",
       "      <td>2</td>\n",
       "      <td>1</td>\n",
       "    </tr>\n",
       "    <tr>\n",
       "      <th>73</th>\n",
       "      <td>G</td>\n",
       "      <td>1</td>\n",
       "      <td>1</td>\n",
       "    </tr>\n",
       "    <tr>\n",
       "      <th>74</th>\n",
       "      <td>R</td>\n",
       "      <td>3</td>\n",
       "      <td>1</td>\n",
       "    </tr>\n",
       "    <tr>\n",
       "      <th>75</th>\n",
       "      <td>G</td>\n",
       "      <td>3</td>\n",
       "      <td>1</td>\n",
       "    </tr>\n",
       "    <tr>\n",
       "      <th>76</th>\n",
       "      <td>G</td>\n",
       "      <td>2</td>\n",
       "      <td>1</td>\n",
       "    </tr>\n",
       "  </tbody>\n",
       "</table>\n",
       "<p>77 rows × 3 columns</p>\n",
       "</div>"
      ],
      "text/plain": [
       "   mfr  protein  fat\n",
       "0    N        4    1\n",
       "1    Q        3    5\n",
       "2    K        4    1\n",
       "3    K        4    0\n",
       "4    R        2    2\n",
       "..  ..      ...  ...\n",
       "72   G        2    1\n",
       "73   G        1    1\n",
       "74   R        3    1\n",
       "75   G        3    1\n",
       "76   G        2    1\n",
       "\n",
       "[77 rows x 3 columns]"
      ]
     },
     "execution_count": 38,
     "metadata": {},
     "output_type": "execute_result"
    }
   ],
   "source": [
    "dfc_2 = dfc[['mfr','protein','fat']].copy()\n",
    "dfc_2"
   ]
  },
  {
   "cell_type": "markdown",
   "metadata": {},
   "source": []
  },
  {
   "cell_type": "code",
   "execution_count": null,
   "metadata": {},
   "outputs": [],
   "source": []
  },
  {
   "cell_type": "markdown",
   "metadata": {},
   "source": []
  },
  {
   "cell_type": "code",
   "execution_count": null,
   "metadata": {},
   "outputs": [],
   "source": []
  },
  {
   "cell_type": "markdown",
   "metadata": {},
   "source": []
  },
  {
   "cell_type": "code",
   "execution_count": null,
   "metadata": {},
   "outputs": [],
   "source": []
  },
  {
   "cell_type": "markdown",
   "metadata": {},
   "source": []
  },
  {
   "cell_type": "code",
   "execution_count": null,
   "metadata": {},
   "outputs": [],
   "source": []
  },
  {
   "cell_type": "markdown",
   "metadata": {},
   "source": []
  },
  {
   "cell_type": "code",
   "execution_count": null,
   "metadata": {},
   "outputs": [],
   "source": []
  },
  {
   "cell_type": "markdown",
   "metadata": {},
   "source": []
  },
  {
   "cell_type": "code",
   "execution_count": null,
   "metadata": {},
   "outputs": [],
   "source": []
  },
  {
   "cell_type": "markdown",
   "metadata": {},
   "source": []
  },
  {
   "cell_type": "code",
   "execution_count": null,
   "metadata": {},
   "outputs": [],
   "source": []
  },
  {
   "cell_type": "markdown",
   "metadata": {},
   "source": []
  },
  {
   "cell_type": "code",
   "execution_count": null,
   "metadata": {},
   "outputs": [],
   "source": []
  },
  {
   "cell_type": "markdown",
   "metadata": {},
   "source": []
  },
  {
   "cell_type": "code",
   "execution_count": null,
   "metadata": {},
   "outputs": [],
   "source": []
  },
  {
   "cell_type": "markdown",
   "metadata": {},
   "source": []
  },
  {
   "cell_type": "code",
   "execution_count": null,
   "metadata": {},
   "outputs": [],
   "source": []
  },
  {
   "cell_type": "markdown",
   "metadata": {},
   "source": []
  },
  {
   "cell_type": "code",
   "execution_count": null,
   "metadata": {},
   "outputs": [],
   "source": []
  },
  {
   "cell_type": "markdown",
   "metadata": {},
   "source": []
  },
  {
   "cell_type": "code",
   "execution_count": null,
   "metadata": {},
   "outputs": [],
   "source": []
  },
  {
   "cell_type": "markdown",
   "metadata": {},
   "source": []
  },
  {
   "cell_type": "code",
   "execution_count": null,
   "metadata": {},
   "outputs": [],
   "source": []
  },
  {
   "cell_type": "markdown",
   "metadata": {},
   "source": []
  },
  {
   "cell_type": "code",
   "execution_count": null,
   "metadata": {},
   "outputs": [],
   "source": []
  },
  {
   "cell_type": "markdown",
   "metadata": {},
   "source": []
  },
  {
   "cell_type": "code",
   "execution_count": null,
   "metadata": {},
   "outputs": [],
   "source": []
  }
 ],
 "metadata": {
  "kernelspec": {
   "display_name": "FS_Env",
   "language": "python",
   "name": "python3"
  },
  "language_info": {
   "codemirror_mode": {
    "name": "ipython",
    "version": 3
   },
   "file_extension": ".py",
   "mimetype": "text/x-python",
   "name": "python",
   "nbconvert_exporter": "python",
   "pygments_lexer": "ipython3",
   "version": "3.9.19"
  }
 },
 "nbformat": 4,
 "nbformat_minor": 2
}
